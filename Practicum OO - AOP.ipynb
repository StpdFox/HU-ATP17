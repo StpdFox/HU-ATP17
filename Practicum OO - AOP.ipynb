{
 "cells": [
  {
   "cell_type": "markdown",
   "metadata": {},
   "source": [
    "# Practicum OO - AOP\n",
    "Dit bestand bevat de practicumopgaven voor de module OO&AOP van het vak Advanced Technical Programming (TCIT-VKATP-17). \n",
    "\n",
    "Een Jupyter Notebook bestaat uit cells met code of toelichting. Sommige code-cells hoeven enkel uitgevoerd te worden om functies beschikbaar te maken, anderen moet je zelf in vullen (opdrachten staan duidelijk met kopjes gemarkeerd, je moet dan zelf de delen met TODO invullen). Je kunt de code per cel uitvoeren door de cel te selecteren en \"run cell\" te kiezen. De cel direct hieronder laadt de nodige modules in. Als je code niet naar verwachting werkt kan het zijn dat je deze cell moet runnen, of een van de andere cels vóór de cel met error. Let erop dat als je de Jupyter-server afsluit en later verder gaat moet je deze cells opnieuw runnen."
   ]
  },
  {
   "cell_type": "code",
   "execution_count": 1,
   "metadata": {},
   "outputs": [],
   "source": [
    "from unittest import *    \n",
    "import doctest\n",
    "import io\n",
    "import inspect\n",
    "from contextlib import redirect_stdout"
   ]
  },
  {
   "cell_type": "markdown",
   "metadata": {},
   "source": [
    "__Opdrachten die zijn gemarkeerd met _[PORTFOLIO]_ dienen te worden opgenomen in je portfolio voor de eindopgave__.\n",
    "\n",
    "Laat deze opdrachten door je docent aftekenen aan het einde van de les (of aan het begin van de volgende les)."
   ]
  },
  {
   "cell_type": "markdown",
   "metadata": {},
   "source": [
    "***\n",
    "## College 2: Reflectie en metaprogrammeren\n",
    "Deze opdrachten gaan over het college over reflectie en metaprogrammeren en dienen aan het einde van dat college te worden gemaakt.\n",
    "\n",
    "Maak ook de opdrachten in de reader!\n",
    "\n",
    "\n",
    "#### Opdracht 2.1 — OO in Python [Portfolio]\n",
    "Een Queue is gebaseerd op het FIFO-principe: First In First Out\n",
    "\n",
    "<img src=\"queue.png\" width=\"500px\">\n",
    "\n",
    "`enqueue` voegt een element achteraan toe.  \n",
    "`dequeue` haalt een element vooraan weg.\n",
    "\n",
    "De volgende klasse implementeert Queue:"
   ]
  },
  {
   "cell_type": "code",
   "execution_count": 2,
   "metadata": {},
   "outputs": [],
   "source": [
    "class MyQueue(list):\n",
    "    def __init__(self, a=[]):\n",
    "        list.__init__(self, a)\n",
    "    \n",
    "    def dequeue(self):\n",
    "        return self.pop(0) # geen fout-afhandeling\n",
    "    \n",
    "    def enqueue(self, x):\n",
    "        self.append(x)"
   ]
  },
  {
   "cell_type": "markdown",
   "metadata": {},
   "source": [
    "Python heeft een aantal ingebouwde queue-klassen: Queue, LifeQueue, PriorityQueue, en deque.\n",
    "\n",
    "`deque` staat voor double-ended queue: aan beide kanten van de queue kan worden toegevoegd en verwijderd.\n",
    "\n",
    "Breidt de klasse `MyQueue` uit tot de klasse `MyDeQue`.\n",
    "\n",
    "De klasse heeft de volgende methoden:\n",
    "* `appendright(x)`: voeg `x` aan de rechterkant toe\n",
    "* `appendleft(x)`: voeg `x` aan de linkerkant toe\n",
    "* `popright()`: verwijder en retourneer het element dat helemaal rechts staat\n",
    "* `popleft()`: verwijder en retourneer het element dat helemaal links staat\n",
    "* `reverse()`: keer de elementen in de queue om\n",
    "* `rotateright(n)`: verschuif de elementen `n` posities naar rechts.\n",
    "  Als `n < 0`: verschuif de elementen (`-n`)  posities naar links.\n",
    "* `rotateleft(n)`: verschuif de elementen `n` posities naar links.\n",
    "  Als `n < 0`: verschuif de elementen (`-n`) posities naar rechts.\n",
    "  \n",
    "Maak zoveel mogelijk gebruik van de andere methoden en methoden uit de super-klassen. Zorg voor een goede fout-afhandeling.\n",
    "\n",
    "Denk er ook aan dat je voldoende tests schrijft om de functionaliteit zoals hierboven gegeven kan garanderen!"
   ]
  },
  {
   "cell_type": "code",
   "execution_count": 3,
   "metadata": {},
   "outputs": [
    {
     "name": "stdout",
     "output_type": "stream",
     "text": [
      "[0, 1, 2, 3]\n",
      "[0, 1, 2, 3, 5]\n",
      "[1, 2, 3, 5, 0]\n",
      "[5, 0, 1, 2, 3]\n",
      "[0, 1, 2, 3]\n",
      "[0, 1, 2]\n",
      "[2, 1, 0]\n"
     ]
    }
   ],
   "source": [
    "class MyDeQue(MyQueue):\n",
    "    def __init__(self, a):\n",
    "        MyQueue.__init__(self, a)\n",
    "\n",
    "    def appendright(self, x):\n",
    "        self.enqueue(x)\n",
    "\n",
    "    def appendleft(self, x):\n",
    "        self.reverse()\n",
    "        self.appendright(x)\n",
    "        self.reverse()\n",
    "\n",
    "    def popright(self):\n",
    "        self.reverse()\n",
    "        ret = self.popleft()\n",
    "        self.reverse()\n",
    "        return ret\n",
    "\n",
    "    def popleft(self):\n",
    "        return self.dequeue()\n",
    "\n",
    "    def rotateright(self, n):\n",
    "        if n < 0:\n",
    "            self.rotateleft(n * -1)\n",
    "            return\n",
    "\n",
    "        for _ in range(n):\n",
    "            self.appendleft(self.popright())\n",
    "\n",
    "    def rotateleft(self, n):\n",
    "        if n < 0:\n",
    "            self.rotateleft(n * -1)\n",
    "            return\n",
    "\n",
    "        for _ in range(n):\n",
    "            self.appendright(self.popleft())\n",
    "\n",
    "q = MyDeQue([1, 2, 3])\n",
    "q.appendleft(0)\n",
    "print(q)\n",
    "q.appendright(5)\n",
    "print(q)\n",
    "q.rotateleft(1)\n",
    "print(q)\n",
    "q.rotateright(2)\n",
    "print(q)\n",
    "q.popleft()\n",
    "print(q)\n",
    "q.popright()\n",
    "print(q)\n",
    "q.reverse()\n",
    "print(q)"
   ]
  },
  {
   "cell_type": "markdown",
   "metadata": {},
   "source": [
    "#### Opdracht 2.2 — `eval` en veiligheid [Portfolio]\n",
    "\n",
    "Raadpleeg de site https://www.programiz.com/python-programming/methods/built-in/eval\n",
    "\n",
    "Een eenvoudige interactieve expressie-evaluator is de volgende:"
   ]
  },
  {
   "cell_type": "code",
   "execution_count": 4,
   "metadata": {},
   "outputs": [],
   "source": [
    "#while True:\n",
    "#    r = input(\"Type an expression: \")\n",
    "#    print(\"Result:\", eval(r))"
   ]
  },
  {
   "cell_type": "markdown",
   "metadata": {},
   "source": [
    "Een dergelijke evaluator is onveilig. Als de gebruiker in een Linux-omgeving de expressie `os.system('rm -rf *')` intikt, kan er veel schade worden aangericht. Je kunt dit voorkomen door bij de eval-functie een dictionary mee te geven.\n",
    "\n",
    "Schrijf de klasse SimpleSecureEvaluator. De klasse bevat een dictionary-attribuut `d` en een methode `eval`.\n",
    "\n",
    "De klasse wordt gebruikt bij interactieve sessies, waarbij de gebruiker het volgende kan invoeren:\n",
    "* een toekenningsopdracht. De opdracht van de vorm `<variabele> = <expressie>` wordt opgeslagen in dictionary-attribuut `d`. Hierbij wordt <variabele> als key-waarde opgeslagen. De expressie wordt eerst geëvalueerd en het resultaat wordt als value-waarde bij de key-waarde opgeslagen. Ook opdrachten van de vorm `i = i +1` zijn toegestaan, maar alleen variabelen van voorafgaande toekenningsopdrachten mogen in de expressie voorkomen.\n",
    "* een expressie. Alleen variabelen van voorafgaande toekenningsopdrachten mogen in de expressie voorkomen. Bij de evaluatie van de expressie wordt gebruik gemaakt van `d`. Het resultaat wordt aan de gebruiker getoond.\n",
    "* de opdracht `mydir`. De dictionary `d` wordt dan getoond."
   ]
  },
  {
   "cell_type": "code",
   "execution_count": 26,
   "metadata": {},
   "outputs": [
    {
     "name": "stdout",
     "output_type": "stream",
     "text": [
      "3.0\n",
      "3.0\n",
      "24.0\n",
      "6.0\n",
      "3.0\n",
      "6.0\n",
      "36.0\n",
      "216.0\n",
      "12.0\n",
      "{'actual_varname': 36.0, 'd': 6.0, 'a': 24.0, 'b': 3.0, 'c': 3.0, 'f': 3.0}\n"
     ]
    }
   ],
   "source": [
    "import re\n",
    "\n",
    "class SimpleSecureEvaluator(object):\n",
    "    # TODO: implement more operators\n",
    "    operator_functions = {\n",
    "        '+': lambda x,y: x + y,\n",
    "        '-': lambda x,y: x - y,\n",
    "        '/': lambda x,y: x / y,\n",
    "        '*': lambda x,y: x * y,\n",
    "        '%': lambda x,y: x % y\n",
    "    }\n",
    "    \n",
    "    operator_order = ((\"%\", None), (\"*\", \"/\"), (\"+\", \"-\"))\n",
    "    \n",
    "    def __init__(self):\n",
    "        self.d = {} # empty dictionary\n",
    "        \n",
    "    def __eval(self, expression):\n",
    "#         print()\n",
    "#         print(\"Eval begin\")\n",
    "#         print(expression)\n",
    "\n",
    "        # for each operator\n",
    "        for operator in self.operator_order:\n",
    "            # Some operators have the same ordering as others\n",
    "            first = operator[0]\n",
    "            second = operator[1]\n",
    "            # We solve the expression from left to right because 3 * 4 / 2 * 2 would result in 3 ((3*4) / (2*2)) instead of 12\n",
    "            # if we would use findall with the regex\n",
    "            while first in expression or (second is not None and second in expression):\n",
    "                # Create a regex that finds the digit before and the digit after the operator and puts then in group 1 and 3\n",
    "                # group 2 is for the operator(s)\n",
    "                # Example for + and - : (\\d*\\.*\\d)\\s*([\\+\\-])\\s*(\\d*\\.*\\d)\n",
    "                regex_str = \"(\\d*\\.*\\d)\\s*([\\\\\" + first + (\"\\\\\" + second if len(second) > 0 else \"\") +\"])\\s*(\\d*\\.*\\d)\"\n",
    "                # find the first match\n",
    "                result = re.search(regex_str, expression)\n",
    "                if result is not None:\n",
    "                    value = self.operator_functions[result.group(2)](float(result.group(1)), float(result.group(3)))\n",
    "                    # replace the match with the calculated value\n",
    "                    expression = expression.replace(result.group(0), str(value))\n",
    "                    result = re.search(regex_str, expression)\n",
    "\n",
    "#         print(expression)\n",
    "#         print(\"Eval end\")\n",
    "#         print()\n",
    "        return expression\n",
    "    \n",
    "    def eval(self, expressie):\n",
    "        if expressie == \"mydir\":\n",
    "            return self.d\n",
    "        \n",
    "        # Assignment\n",
    "        result = re.search(\"^.*?(\\w+).*?\\=(.+)\", expressie)\n",
    "        if result:\n",
    "            # Group 1: Everything before assignment operator\n",
    "            # Group 2: Everything after assignment operator\n",
    "            key = result.group(1)\n",
    "            # Solve the expression after assignment recursive\n",
    "            self.d[key] = self.eval(result.group(2))\n",
    "            # Return the value for a = b = c assignments\n",
    "            return self.d[key]\n",
    "       \n",
    "        # Expression\n",
    "        variable = ''\n",
    "        expression = ''\n",
    "        # Replace the variables with the values from the self.d\n",
    "        for c in expressie:\n",
    "            if c in self.operator_functions.keys():\n",
    "                if variable.strip() in self.d:\n",
    "                    variable = self.d[variable.strip()]\n",
    "                \n",
    "                expression += str(variable) + c\n",
    "                variable = ''\n",
    "            elif c.isalpha() or True:\n",
    "                variable += c\n",
    "                \n",
    "        if variable.strip() in self.d:\n",
    "            variable = self.d[variable.strip()]\n",
    "        expression += str(variable)\n",
    "\n",
    "        return float(self.__eval(expression))\n",
    "\n",
    "evaluator = SimpleSecureEvaluator()\n",
    "s_eval = evaluator.eval\n",
    "print(s_eval(\"a = 1 + 1 * 2\"))\n",
    "print(s_eval(\"c = b = a\"))\n",
    "print(s_eval(\"a = a * 8\"))\n",
    "print(s_eval(\"d = 6\"))\n",
    "print(s_eval(\"f=3\"))\n",
    "print(s_eval(\"f+f\"))\n",
    "print(s_eval(\"actual_varname = a + b + c+ d\"))\n",
    "print(s_eval(\"6 * 6 * 6\"))\n",
    "print(s_eval(\"  3 * 4 / 2 * 2\"))\n",
    "print(s_eval(\"mydir\"))"
   ]
  },
  {
   "cell_type": "markdown",
   "metadata": {},
   "source": [
    "#### Opdracht 2.3.1 — Introspectie van functies\n",
    "Schrijf een programma dat van een gegeven pyc-file (`function_demo.pyc`) nagaat welke functies de file bevat. Bepaal bij iedere functie de signature en de documentatie. Test de functies.\n",
    "\n",
    "Ga als volgt te werk:\n",
    "* Pas de opdracht `dir(<modulename>)` toe. Het resultaat is een lijst van element-namen van de file. De lijst bevat strings.\n",
    "* Bepaal van ieder element het type. Gebruik hierbij de eval-functie.\n",
    "* Maak gebruik van het volgende: voor een functie `f` geldt: `type(f).__name__ = 'function'`.\n",
    "* Gebruikt de functies `signature` en `getdoc` van de module `inspect`."
   ]
  },
  {
   "cell_type": "code",
   "execution_count": 5,
   "metadata": {},
   "outputs": [
    {
     "ename": "ImportError",
     "evalue": "bad magic number in 'function_demo_3_6': b'3\\r\\r\\n'",
     "output_type": "error",
     "traceback": [
      "\u001b[1;31m---------------------------------------------------------------------------\u001b[0m",
      "\u001b[1;31mImportError\u001b[0m                               Traceback (most recent call last)",
      "\u001b[1;32m<ipython-input-5-a1924136bbb6>\u001b[0m in \u001b[0;36m<module>\u001b[1;34m\u001b[0m\n\u001b[0;32m      1\u001b[0m \u001b[1;32mimport\u001b[0m \u001b[0mfunction_demo_3_5\u001b[0m \u001b[1;31m# Select correct import for your interpreter version\u001b[0m\u001b[1;33m\u001b[0m\u001b[0m\n\u001b[1;32m----> 2\u001b[1;33m \u001b[1;32mimport\u001b[0m \u001b[0mfunction_demo_3_6\u001b[0m\u001b[1;33m\u001b[0m\u001b[0m\n\u001b[0m\u001b[0;32m      3\u001b[0m \u001b[1;33m\u001b[0m\u001b[0m\n\u001b[0;32m      4\u001b[0m \u001b[1;31m# TODO: zie hierboven\u001b[0m\u001b[1;33m\u001b[0m\u001b[1;33m\u001b[0m\u001b[0m\n",
      "\u001b[1;31mImportError\u001b[0m: bad magic number in 'function_demo_3_6': b'3\\r\\r\\n'"
     ]
    }
   ],
   "source": [
    "import function_demo_3_5 # Select correct import for your interpreter version\n",
    "import function_demo_3_6\n",
    "\n",
    "# Ik kan niet werken met pyc files: \"Bad magic number in....\""
   ]
  },
  {
   "cell_type": "markdown",
   "metadata": {},
   "source": [
    "#### Opdracht 2.3.2 — Introspectie van klassen\n",
    "Schrijf een programma dat van de gegeven pyc-file (`class_demo.pyc`) nagaat welke klassen de file bevat.\n",
    "\n",
    "Ga te werk zoals bij opdracht 2.3.1.\n",
    "\n",
    "Bedenk daarbij het volgende:\n",
    "* Voor een klasse `C` geldt: `type(c).__name__ == 'type'`\n",
    "* Voor een methode `m` geldt: `type(m).__name__ == 'function'`"
   ]
  },
  {
   "cell_type": "code",
   "execution_count": null,
   "metadata": {},
   "outputs": [],
   "source": [
    "# import class_demo_3_5\n",
    "# import class_demo_3_6\n",
    "\n",
    "# Ik kan niet werken met pyc files: \"Bad magic number in....\""
   ]
  },
  {
   "cell_type": "markdown",
   "metadata": {},
   "source": [
    "#### Opdracht 2.4 — Decorators [ Portfolio]\n",
    "Een decorator is een functie die andere functies aanpast om zodanig (aspect-oriented) functionaliteit toe te voegen. Denk bijvoorbeeld aan de optie op een timing toe te  voegen (hoe lang duurt het uitvoeren van een bepaalde functie-aanroep), of security aspecten (alleen als het juiste pincode/password wordt ingevoerd na aanroep zal de functie ook echt worden uitgevoerd).\n",
    "\n",
    "Het basispatroon van een decorator is het volgende:"
   ]
  },
  {
   "cell_type": "code",
   "execution_count": 6,
   "metadata": {},
   "outputs": [
    {
     "name": "stdout",
     "output_type": "stream",
     "text": [
      "Do something useful here!\n",
      "4\n",
      "--------------------\n",
      "2.0\n",
      "--------------------\n",
      "Do something useful here!\n",
      "2.0\n"
     ]
    }
   ],
   "source": [
    "from functools import wraps\n",
    "\n",
    "def myDecorator(f):\n",
    "    # Definieer een binnenste functie, die je om de 'oude' functie heen 'wrapt'\n",
    "    @wraps(f) #Gebruik van wraps niet noodzakelijk (zie reader), maar wel netter\n",
    "    def inner(*args, **kwargs): \n",
    "        # gebruik van list arguments en dict keyword arguments omdat we niet weten wat voor functie we gaan krijgen.\n",
    "        print(\"Do something useful here!\")\n",
    "        result = f(*args, **kwargs)\n",
    "        # mogelijk nog meer nuttige aanroepen hier...\n",
    "        return result\n",
    "    return inner\n",
    "\n",
    "# Toepassen d.m.v. '@' alleen mogelijk bij definitie van de functie!\n",
    "@myDecorator\n",
    "def successor(x):\n",
    "    return x+1\n",
    "\n",
    "print(successor(3))\n",
    "print('-'*20)\n",
    "\n",
    "# Maar het kan ook door 'overschrijven' van eerder gedefinieerde functie (= hernoemen van de functie-pointer)\n",
    "from math import sqrt\n",
    "print(sqrt(4)) # nog niets verandert\n",
    "\n",
    "print('-'*20)\n",
    "\n",
    "sqrt = myDecorator(sqrt)\n",
    "print(sqrt(4)) # nu wel!"
   ]
  },
  {
   "cell_type": "markdown",
   "metadata": {},
   "source": [
    "Herschrijf de decorator hierboven zodat hij naar het scherm schrijft welke functie (naam) uit welke module (naam) er gedraait is. Je kan deze decorator vervolgens toepassen bij de volgende opdracht, als je kan achterhalen hoe je hem toevoegd aan __alle__ functies van __alle__ modules van de simulator."
   ]
  },
  {
   "cell_type": "markdown",
   "metadata": {},
   "source": [
    "#### Eindopdracht\n",
    "Gebruik de beschrijving van de simulator in hoofdstuk 6.1 van de reader en introspectie om:\n",
    "* Het functioneren van de simulator te achterhalen;\n",
    "* Tests te kunnen draaien om de correctheid van de simulator te achterhalen (functioneert de simulator vergelijkbaar met de fysieke opstelling?);\n",
    "* De controller unit van de simulator te vervangen door een eigen geschreven variant.\n",
    "\n",
    "De Python-byte code van de simulator is toegevoegd in de folder `simulator-3.5` (voor Python 3.5) en `simulator-3.6` (voor Python 3.6). Gebruik `main.py` om de simulator te starten.   \n",
    "De GUI vereist de installatie van PyGame; gebruik `pip3 install pygame` in een prompt om de pygame-module te installeren (draai als Admin op Windows)."
   ]
  },
  {
   "cell_type": "code",
   "execution_count": null,
   "metadata": {},
   "outputs": [],
   "source": []
  }
 ],
 "metadata": {
  "kernelspec": {
   "display_name": "Python 3",
   "language": "python",
   "name": "python3"
  },
  "language_info": {
   "codemirror_mode": {
    "name": "ipython",
    "version": 3
   },
   "file_extension": ".py",
   "mimetype": "text/x-python",
   "name": "python",
   "nbconvert_exporter": "python",
   "pygments_lexer": "ipython3",
   "version": "3.5.2"
  }
 },
 "nbformat": 4,
 "nbformat_minor": 2
}
